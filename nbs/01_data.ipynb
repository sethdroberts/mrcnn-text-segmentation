{
 "cells": [
  {
   "cell_type": "markdown",
   "id": "f745c25b-529d-4f38-83f3-1c9516c6acd0",
   "metadata": {},
   "source": [
    "# data\n",
    "\n",
    "> Processing and sorting dataset"
   ]
  },
  {
   "cell_type": "code",
   "execution_count": null,
   "id": "fa875d6c-068e-487a-882b-95b5eb8888b0",
   "metadata": {},
   "outputs": [],
   "source": [
    "#| default_exp core"
   ]
  },
  {
   "cell_type": "code",
   "execution_count": null,
   "id": "b60ac5fc-3abd-4c1f-a1cf-fb48b1b793cc",
   "metadata": {},
   "outputs": [],
   "source": [
    "#| hide\n",
    "from PIL import Image\n",
    "import os\n",
    "from pathlib import Path\n",
    "import json"
   ]
  },
  {
   "cell_type": "markdown",
   "id": "9747e197-45ed-4725-80a1-c5145f5e32b8",
   "metadata": {},
   "source": [
    "## Tips for Manipulating Files:\n",
    "### Move all files from a a directory into parent directory\n",
    "```python\n",
    "mv * ../\n",
    "```\n",
    "### Add an alteration to every file in a directory\n",
    "```python\n",
    "for FILENAME in *; do mv $FILENAME alteration_$FILENAME; done \n",
    "```\n",
    "### Copy contents of one directory into another\n",
    "```python\n",
    "cp dir1/* dir2\n",
    "```\n",
    "### Remove all of a filetype from a directory\n",
    "```python\n",
    "rm *.suffix\n",
    "```"
   ]
  },
  {
   "cell_type": "markdown",
   "id": "699c05bf-5071-459c-9699-4ce29bbaca23",
   "metadata": {},
   "source": [
    "## Get all filepaths of a specific filetype"
   ]
  },
  {
   "cell_type": "code",
   "execution_count": null,
   "id": "ca9e7a8e-81be-491f-8f01-c7e2a140f025",
   "metadata": {},
   "outputs": [],
   "source": [
    "#| export\n",
    "def get_filepaths(suff_str, dataset_path):\n",
    "    '''Gets list of filepaths for all files in dir with same suffix'''\n",
    "    dataset_path = Path(dataset_path)\n",
    "    file_path = list(dataset_path.glob(f'*.{suff_str}'))\n",
    "    return file_path"
   ]
  },
  {
   "cell_type": "code",
   "execution_count": null,
   "id": "a8ce40d5-a9d7-4dc6-a97e-5e10f6463ffb",
   "metadata": {},
   "outputs": [],
   "source": [
    "#| hide\n",
    "dataset = '/workspace/mrcnn-text-segmentation/Datasets/all_datasets/'"
   ]
  },
  {
   "cell_type": "code",
   "execution_count": null,
   "id": "1dc869f7-6e36-4b35-bacf-b65112593349",
   "metadata": {},
   "outputs": [
    {
     "name": "stdout",
     "output_type": "stream",
     "text": [
      "[]\n"
     ]
    },
    {
     "data": {
      "text/plain": [
       "[]"
      ]
     },
     "execution_count": null,
     "metadata": {},
     "output_type": "execute_result"
    }
   ],
   "source": [
    "#| hide\n",
    "suff_str = 'tif'\n",
    "tif_file_paths = get_filepaths(suff_str, dataset)\n",
    "tif_file_paths"
   ]
  },
  {
   "cell_type": "markdown",
   "id": "e7421e30-f8b9-4d12-99c7-53f0ad96e677",
   "metadata": {},
   "source": [
    "## Convert a list of tifs to jpg's"
   ]
  },
  {
   "cell_type": "code",
   "execution_count": null,
   "id": "94f745c6-7b36-40da-af34-d726044b3f31",
   "metadata": {},
   "outputs": [],
   "source": [
    "#| export\n",
    "def convert_tif_jpg(path_list):\n",
    "    '''Converts tifs into jpgs from list of filepaths'''\n",
    "    for filepath in path_list:\n",
    "        im = Image.open(filepath)\n",
    "        rgb_im = im.convert(\"RGB\")\n",
    "        rgb_im.save(f\"{filepath.stem}.jpg\")\n"
   ]
  },
  {
   "cell_type": "code",
   "execution_count": null,
   "id": "59af2075-b9e1-4db6-a521-9db08fb964b1",
   "metadata": {},
   "outputs": [],
   "source": [
    "#| hide\n",
    "convert_tif_jpg(tif_file_paths)"
   ]
  },
  {
   "cell_type": "code",
   "execution_count": null,
   "id": "58b8b8b5-5b4c-42ab-b39b-e978a333fa46",
   "metadata": {},
   "outputs": [],
   "source": [
    "#\\ export\n",
    "def convert_json_image_paths(dir):\n",
    "    '''Converts image paths in a directory of json files to the jpg eq. of their name'''\n",
    "    path_list = get_filepaths('json', dataset)\n",
    "    for filepath in path_list:\n",
    "        with open(filepath, 'r+') as f:\n",
    "            data = json.load(f)\n",
    "            data['imagePath'] = f'{filepath.stem}.jpg'\n",
    "            f.seek(0)        # <--- should reset file position to the beginning.\n",
    "            json.dump(data, f, indent=4)\n",
    "            f.truncate()"
   ]
  },
  {
   "cell_type": "code",
   "execution_count": null,
   "id": "a4171124-188b-425a-b63d-dd711a8abef1",
   "metadata": {},
   "outputs": [],
   "source": [
    "#| hide\n",
    "convert_json_image_paths(dataset)"
   ]
  }
 ],
 "metadata": {
  "kernelspec": {
   "display_name": "python3",
   "language": "python",
   "name": "python3"
  }
 },
 "nbformat": 4,
 "nbformat_minor": 5
}
